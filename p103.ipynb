{
 "cells": [
  {
   "cell_type": "markdown",
   "metadata": {},
   "source": [
    "1-B"
   ]
  },
  {
   "cell_type": "code",
   "execution_count": 1,
   "metadata": {},
   "outputs": [
    {
     "data": {
      "text/plain": [
       "array([[5.00000000e+00, 3.24980356e-07],\n",
       "       [1.20000000e+01, 5.72782010e-07],\n",
       "       [2.80000000e+01, 6.86109997e-07],\n",
       "       [6.40000000e+01, 8.90679657e-07],\n",
       "       [1.44000000e+02, 9.84189101e-07],\n",
       "       [3.20000000e+02, 1.24296173e-06],\n",
       "       [7.04000000e+02, 1.59041025e-06],\n",
       "       [1.53600000e+03, 1.72805972e-06],\n",
       "       [3.32800000e+03, 1.86315272e-06],\n",
       "       [7.16800000e+03, 2.00428069e-06]])"
      ]
     },
     "execution_count": 1,
     "metadata": {},
     "output_type": "execute_result"
    }
   ],
   "source": [
    "import numpy as np\n",
    "\n",
    "def rec_bb(t: list, f: int, l: int, key: int):\n",
    "    if l < f:\n",
    "        return None\n",
    "    root = (f+l)//2\n",
    "    if key < t[root]:\n",
    "        return rec_bb(t, f, root-1, key)\n",
    "    elif key > t[root]:\n",
    "        return rec_bb(t, root+1, l, key)\n",
    "    \n",
    "    return root\n",
    "\n",
    "\n",
    "\n",
    "def bb(t: list, f: int, l: int, key: int):\n",
    "    \n",
    "    while f <= l:\n",
    "        root = (f+l)//2 # 0 6 r3// 4 6 r5\n",
    "        if t[root] > key: # 3\n",
    "            l = root-1\n",
    "        elif t[root] < key:\n",
    "            f = root+1\n",
    "        elif t[root] == key:\n",
    "            return root\n",
    "    \n",
    "    return None\n",
    "\n",
    "\n",
    "# timings para bb recursiva \n",
    "l_timings_rec = [] \n",
    "l_timings_ite = []\n",
    "for i, size in enumerate(range(5, 15)):\n",
    "    t = list(range(2**i * size))\n",
    "    key = t[len(t)//2]\n",
    "    #print(t)\n",
    "    timings_rec = %timeit -n 100 -r 10 -o -q rec_bb(t, 0, len(t) - 1, key)\n",
    "    timings_ite = %timeit -n 100 -r 10 -o -q bb(t, 0, len(t) - 1, key)\n",
    "    l_timings_rec.append([int(len(t)), timings_rec.best])\n",
    "    l_timings_ite.append([int(len(t)), timings_ite.best])\n",
    "\n",
    "a_timings_rec = np.array(l_timings_rec)\n",
    "a_timings_ite = np.array(l_timings_ite)\n",
    "\n",
    "a_timings_rec\n",
    "a_timings_ite\n",
    "\n",
    "\n",
    "\n"
   ]
  },
  {
   "cell_type": "markdown",
   "metadata": {},
   "source": [
    "1-C"
   ]
  },
  {
   "cell_type": "code",
   "execution_count": 2,
   "metadata": {},
   "outputs": [
    {
     "ename": "NameError",
     "evalue": "name 'plt' is not defined",
     "output_type": "error",
     "traceback": [
      "\u001b[0;31m---------------------------------------------------------------------------\u001b[0m",
      "\u001b[0;31mNameError\u001b[0m                                 Traceback (most recent call last)",
      "\u001b[1;32m/home/vosem/Projects/p1NN/p103.ipynb Cell 4\u001b[0m line \u001b[0;36m1\n\u001b[1;32m     <a href='vscode-notebook-cell://ssh-remote%2Bgr0g/home/vosem/Projects/p1NN/p103.ipynb#W3sdnNjb2RlLXJlbW90ZQ%3D%3D?line=9'>10</a>\u001b[0m pars, _ \u001b[39m=\u001b[39m curve_fit(tofit, x, y)\n\u001b[1;32m     <a href='vscode-notebook-cell://ssh-remote%2Bgr0g/home/vosem/Projects/p1NN/p103.ipynb#W3sdnNjb2RlLXJlbW90ZQ%3D%3D?line=10'>11</a>\u001b[0m a, b \u001b[39m=\u001b[39m pars\n\u001b[0;32m---> <a href='vscode-notebook-cell://ssh-remote%2Bgr0g/home/vosem/Projects/p1NN/p103.ipynb#W3sdnNjb2RlLXJlbW90ZQ%3D%3D?line=11'>12</a>\u001b[0m plt\u001b[39m.\u001b[39mplot(x, y, \u001b[39m'\u001b[39m\u001b[39mro\u001b[39m\u001b[39m'\u001b[39m, label\u001b[39m=\u001b[39m\u001b[39m'\u001b[39m\u001b[39mDatos rec\u001b[39m\u001b[39m'\u001b[39m)\n\u001b[1;32m     <a href='vscode-notebook-cell://ssh-remote%2Bgr0g/home/vosem/Projects/p1NN/p103.ipynb#W3sdnNjb2RlLXJlbW90ZQ%3D%3D?line=12'>13</a>\u001b[0m plt\u001b[39m.\u001b[39mplot(x, tofit(x, a, b), label\u001b[39m=\u001b[39m\u001b[39m'\u001b[39m\u001b[39mAjuste rec\u001b[39m\u001b[39m'\u001b[39m)\n\u001b[1;32m     <a href='vscode-notebook-cell://ssh-remote%2Bgr0g/home/vosem/Projects/p1NN/p103.ipynb#W3sdnNjb2RlLXJlbW90ZQ%3D%3D?line=13'>14</a>\u001b[0m \u001b[39m#plt.legend()\u001b[39;00m\n\u001b[1;32m     <a href='vscode-notebook-cell://ssh-remote%2Bgr0g/home/vosem/Projects/p1NN/p103.ipynb#W3sdnNjb2RlLXJlbW90ZQ%3D%3D?line=14'>15</a>\u001b[0m \u001b[39m#plt.show()\u001b[39;00m\n",
      "\u001b[0;31mNameError\u001b[0m: name 'plt' is not defined"
     ]
    }
   ],
   "source": [
    "from scipy.optimize import curve_fit\n",
    "import math\n",
    "\n",
    "def tofit(x, a, b):\n",
    "    return a * np.log(x) + b # f(x) = x**3 for matrix mult\n",
    "\n",
    "x = a_timings_rec[: , 0]\n",
    "y = a_timings_rec[: , 1]\n",
    "y = y / y[0] #normalizar timings\n",
    "pars, _ = curve_fit(tofit, x, y)\n",
    "a, b = pars\n",
    "plt.plot(x, y, 'ro', label='Datos rec')\n",
    "plt.plot(x, tofit(x, a, b), label='Ajuste rec')\n",
    "#plt.legend()\n",
    "#plt.show()\n",
    "\n",
    "x1 = a_timings_ite[: , 0]\n",
    "y1 = a_timings_ite[: , 1]\n",
    "y1 = y1 / y1[0] #normalizar timings\n",
    "pars, _ = curve_fit(tofit, x1, y1)\n",
    "a, b = pars\n",
    "plt.plot(x1, y1, 'bo', label='Datos ite')\n",
    "plt.plot(x1, tofit(x1, a, b), label='Ajuste ite')\n",
    "plt.legend()\n",
    "plt.show()\n",
    "\n",
    "\n",
    "\n"
   ]
  },
  {
   "cell_type": "markdown",
   "metadata": {},
   "source": []
  },
  {
   "cell_type": "markdown",
   "metadata": {},
   "source": [
    "A2"
   ]
  },
  {
   "cell_type": "code",
   "execution_count": 22,
   "metadata": {},
   "outputs": [
    {
     "ename": "ValueError",
     "evalue": "The truth value of an array with more than one element is ambiguous. Use a.any() or a.all()",
     "output_type": "error",
     "traceback": [
      "\u001b[1;31m---------------------------------------------------------------------------\u001b[0m",
      "\u001b[1;31mValueError\u001b[0m                                Traceback (most recent call last)",
      "\u001b[1;32mc:\\Users\\dhuff\\Documents\\uni\\algoritmia\\p103.ipynb Cell 7\u001b[0m line \u001b[0;36m2\n\u001b[0;32m     <a href='vscode-notebook-cell:/c%3A/Users/dhuff/Documents/uni/algoritmia/p103.ipynb#W4sZmlsZQ%3D%3D?line=14'>15</a>\u001b[0m         \u001b[39melse\u001b[39;00m:\n\u001b[0;32m     <a href='vscode-notebook-cell:/c%3A/Users/dhuff/Documents/uni/algoritmia/p103.ipynb#W4sZmlsZQ%3D%3D?line=15'>16</a>\u001b[0m             \u001b[39mreturn\u001b[39;00m\n\u001b[1;32m---> <a href='vscode-notebook-cell:/c%3A/Users/dhuff/Documents/uni/algoritmia/p103.ipynb#W4sZmlsZQ%3D%3D?line=19'>20</a>\u001b[0m \u001b[39mprint\u001b[39m(min_heapify(non_min, \u001b[39m0\u001b[39;49m))\n\u001b[0;32m     <a href='vscode-notebook-cell:/c%3A/Users/dhuff/Documents/uni/algoritmia/p103.ipynb#W4sZmlsZQ%3D%3D?line=22'>23</a>\u001b[0m \u001b[39mdef\u001b[39;00m \u001b[39minsert_min_heap\u001b[39m(h: np\u001b[39m.\u001b[39mndarray, k: \u001b[39mint\u001b[39m):\n\u001b[0;32m     <a href='vscode-notebook-cell:/c%3A/Users/dhuff/Documents/uni/algoritmia/p103.ipynb#W4sZmlsZQ%3D%3D?line=23'>24</a>\u001b[0m     h \u001b[39m+\u001b[39m\u001b[39m=\u001b[39m [k]\n",
      "\u001b[1;32mc:\\Users\\dhuff\\Documents\\uni\\algoritmia\\p103.ipynb Cell 7\u001b[0m line \u001b[0;36m8\n\u001b[0;32m      <a href='vscode-notebook-cell:/c%3A/Users/dhuff/Documents/uni/algoritmia/p103.ipynb#W4sZmlsZQ%3D%3D?line=5'>6</a>\u001b[0m \u001b[39mwhile\u001b[39;00m \u001b[39m2\u001b[39m\u001b[39m*\u001b[39mi\u001b[39m+\u001b[39m\u001b[39m1\u001b[39m \u001b[39m<\u001b[39m h\u001b[39m.\u001b[39mshape[\u001b[39m0\u001b[39m]:\n\u001b[0;32m      <a href='vscode-notebook-cell:/c%3A/Users/dhuff/Documents/uni/algoritmia/p103.ipynb#W4sZmlsZQ%3D%3D?line=6'>7</a>\u001b[0m     next_i \u001b[39m=\u001b[39m i\n\u001b[1;32m----> <a href='vscode-notebook-cell:/c%3A/Users/dhuff/Documents/uni/algoritmia/p103.ipynb#W4sZmlsZQ%3D%3D?line=7'>8</a>\u001b[0m     \u001b[39mif\u001b[39;00m h[next_i] \u001b[39m>\u001b[39m h[\u001b[39m2\u001b[39m\u001b[39m*\u001b[39mi\u001b[39m+\u001b[39m\u001b[39m1\u001b[39m]:\n\u001b[0;32m      <a href='vscode-notebook-cell:/c%3A/Users/dhuff/Documents/uni/algoritmia/p103.ipynb#W4sZmlsZQ%3D%3D?line=8'>9</a>\u001b[0m         next_i \u001b[39m=\u001b[39m \u001b[39m2\u001b[39m\u001b[39m*\u001b[39mi\u001b[39m+\u001b[39m\u001b[39m1\u001b[39m\n\u001b[0;32m     <a href='vscode-notebook-cell:/c%3A/Users/dhuff/Documents/uni/algoritmia/p103.ipynb#W4sZmlsZQ%3D%3D?line=9'>10</a>\u001b[0m     \u001b[39mif\u001b[39;00m \u001b[39m2\u001b[39m\u001b[39m*\u001b[39mi\u001b[39m+\u001b[39m\u001b[39m2\u001b[39m \u001b[39m<\u001b[39m h\u001b[39m.\u001b[39mshape[\u001b[39m0\u001b[39m] \u001b[39mand\u001b[39;00m h[next_i] \u001b[39m>\u001b[39m h[\u001b[39m2\u001b[39m\u001b[39m*\u001b[39mi\u001b[39m+\u001b[39m\u001b[39m2\u001b[39m]:\n",
      "\u001b[1;31mValueError\u001b[0m: The truth value of an array with more than one element is ambiguous. Use a.any() or a.all()"
     ]
    }
   ],
   "source": [
    "import numpy as np\n",
    "\n",
    "non_min = np.ndarray([20, 5, 4, 9, 6, 10, 15])\n",
    "\n",
    "def min_heapify(h: np.ndarray, i: int):\n",
    "    while 2*i+1 < h.shape[0]:\n",
    "        next_i = i\n",
    "        if h[next_i] > h[2*i+1]:\n",
    "            next_i = 2*i+1\n",
    "        if 2*i+2 < h.shape[0] and h[next_i] > h[2*i+2]:\n",
    "            next_i = 2*i+2\n",
    "        if next_i > i:\n",
    "            h[i], h[next_i] = h[next_i], h[i]\n",
    "            i = next_i\n",
    "        else:\n",
    "            return\n",
    "\n",
    "\n",
    "\n",
    "print(min_heapify(non_min, 0))\n",
    "\n",
    "\n",
    "def insert_min_heap(h: np.ndarray, k: int):\n",
    "    h += [k]\n",
    "    j = h.shape[0] - 1\n",
    "    while j >= 1 and h[(j-1) // 2] > h[j]:\n",
    "        h[(j-1) // 2], h[j] = h[j], h[(j-1) // 2]\n",
    "        j = (j-1) // 2\n",
    "\n",
    "\n",
    "    return h"
   ]
  }
 ],
 "metadata": {
  "kernelspec": {
   "display_name": "Python 3",
   "language": "python",
   "name": "python3"
  },
  "language_info": {
   "codemirror_mode": {
    "name": "ipython",
    "version": 3
   },
   "file_extension": ".py",
   "mimetype": "text/x-python",
   "name": "python",
   "nbconvert_exporter": "python",
   "pygments_lexer": "ipython3",
   "version": "3.10.12"
  },
  "orig_nbformat": 4
 },
 "nbformat": 4,
 "nbformat_minor": 2
}
