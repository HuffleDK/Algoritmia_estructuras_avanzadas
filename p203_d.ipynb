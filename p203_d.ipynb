{
 "cells": [
  {
   "cell_type": "markdown",
   "metadata": {},
   "source": [
    "I-A TAD Conjunto Disjunto"
   ]
  },
  {
   "cell_type": "code",
   "execution_count": 1,
   "metadata": {},
   "outputs": [
    {
     "name": "stdout",
     "output_type": "stream",
     "text": [
      "[-1 -1 -1 -1 -1]\n"
     ]
    }
   ],
   "source": [
    "import numpy as np\n",
    "\n",
    "def init_cd(n: int):\n",
    "    return np.full(n, -1, dtype=int)\n",
    "\n",
    "print(init_cd(5))\n",
    "\n",
    "\n",
    "def union(rep_1: int, rep_2: int, p_cd: np.ndarray):\n",
    "    if p_cd[rep_1] < p_cd[rep_2]:\n",
    "        p_cd[rep_2] = rep_1\n",
    "        return rep_1\n",
    "    elif p_cd[rep_1] > p_cd[rep_2]:\n",
    "        p_cd[rep_1] = rep_2\n",
    "        return rep_2\n",
    "    else:\n",
    "        p_cd[rep_2] = rep_1\n",
    "        p_cd[rep_1] -= 1\n",
    "        return rep_2\n",
    "\n",
    "#test = np.array = [-4, 0, 5, 1, 0, 4, -3, 6, 7]\n",
    "#print(union(0, 6, test))\n",
    "\n",
    "def find(ind: int, p_cd: np.ndarray):\n",
    "    root = ind\n",
    "\n",
    "    #print(p_cd)\n",
    "    while p_cd[root] >= 0:\n",
    "        root  = p_cd[root]\n",
    "    \n",
    "    #print(f\"la raíz de {ind}: {root}\")\n",
    "\n",
    "    while p_cd[ind] >= 0:\n",
    "        a = p_cd[ind]\n",
    "        p_cd[ind] = root\n",
    "        ind = a\n",
    "    return root\n",
    "    \n",
    "\n",
    "\t\n",
    "#print(test)\n",
    "#print(find(2, test))\n",
    "\n"
   ]
  },
  {
   "cell_type": "markdown",
   "metadata": {},
   "source": [
    "II-A Algoritmo de Kruskall"
   ]
  },
  {
   "cell_type": "code",
   "execution_count": 2,
   "metadata": {},
   "outputs": [],
   "source": [
    "from queue import PriorityQueue\n",
    "\n",
    "def create_pq(n: int, l_g: list):\n",
    "    pq = PriorityQueue()\n",
    "\n",
    "    for u, v, w in l_g:\n",
    "        pq.put((w, (u,v)))\n",
    "    \n",
    "    return pq\n",
    "    \n",
    "\n",
    "def kruskal(n: int, l_g: list):\n",
    "    pq = create_pq(n, l_g)\n",
    "    ds = init_cd(n)\n",
    "    l_t = []\n",
    "\n",
    "    while not pq.empty():\n",
    "        _, (u, v) = pq.get()\n",
    "\n",
    "        x = find(u, ds)\n",
    "        y = find(v, ds)\n",
    "        \n",
    "        if x != y:\n",
    "            l_t.append((u,v))\n",
    "            union(x, y, ds)\n",
    "\n",
    "    return (n, l_t)\n"
   ]
  },
  {
   "cell_type": "markdown",
   "metadata": {},
   "source": [
    "II-B Coste de Kruskal"
   ]
  },
  {
   "cell_type": "code",
   "execution_count": 3,
   "metadata": {},
   "outputs": [
    {
     "name": "stdout",
     "output_type": "stream",
     "text": [
      "[(50, 0.004666725794474284), (60, 0.006333271662394206), (70, 0.009028275807698568), (80, 0.012076934178670248), (90, 0.014803806940714518), (100, 0.019240379333496094)]\n"
     ]
    },
    {
     "data": {
      "text/plain": [
       "[(50, 0.001611156463623047),\n",
       " (60, 0.0023537588119506834),\n",
       " (70, 0.003609812259674072),\n",
       " (80, 0.004149796962738037),\n",
       " (90, 0.0052151656150817875),\n",
       " (100, 0.0068205690383911135)]"
      ]
     },
     "execution_count": 3,
     "metadata": {},
     "output_type": "execute_result"
    }
   ],
   "source": [
    "import random\n",
    "from typing import List\n",
    "from time import time\n",
    "def complete_graph(n_nodes: int, max_weight=50)-> tuple[int, list]:\n",
    "    n = n_nodes\n",
    "    l_g = []\n",
    "\n",
    "    while n_nodes >= 1:\n",
    "        for i in range(n_nodes-1):\n",
    "            l_g.append((i, n_nodes -1, random.randint(1, max_weight)))\n",
    "\n",
    "        n_nodes -= 1\n",
    "\n",
    "    \n",
    "    return (n, l_g)\n",
    "\n",
    "\n",
    "\n",
    "\n",
    "def time_kruskal(n_graphs: int, n_nodes_ini: int, n_nodes_fin: int, step: int)-> List:\n",
    "    times = []\n",
    "\n",
    "    for n in range(n_nodes_ini, n_nodes_fin+1, step):\n",
    "        l_graphs = []\n",
    "        l_graphs = [complete_graph(n, 50) for i in range(0,n_graphs)]\n",
    "        media = 0\n",
    "        for graph in l_graphs:\n",
    "            time1 = time()\n",
    "            kruskal(graph[0], graph[1])\n",
    "            time2 = time()\n",
    "            media = media + time2 - time1\n",
    "        media = media / n_graphs\n",
    "        times.append((n, media))\n",
    "    \n",
    "    return times\n",
    "\n",
    "print(time_kruskal(3, 50, 100, 10))\n",
    "\n",
    "\n",
    "def kruskal_2(n: int, l_g: list):\n",
    "    pq = create_pq(n, l_g)\n",
    "    time1 = time()\n",
    "    ds = init_cd(n)\n",
    "    time1_fin = time()\n",
    "    l_t = []\n",
    "\n",
    "    time_k = time1_fin - time1\n",
    "    while not pq.empty():\n",
    "        _, (u, v) = pq.get()\n",
    "\n",
    "        time2 = time()\n",
    "        x = find(u, ds)\n",
    "        y = find(v, ds)\n",
    "        time2_fin = time()\n",
    "        \n",
    "        time3, time3_fin = 0, 0\n",
    "        if x != y:\n",
    "            l_t.append((u,v))\n",
    "            time3 = time()\n",
    "            union(x, y, ds)\n",
    "            time3_fin = time()\n",
    "        \n",
    "        time_k += time2_fin - time2 + time3_fin - time3 \n",
    "\n",
    "    return (n, l_t, time_k)\n",
    "\n",
    "def time_kruskal_2(n_graphs: int, n_nodes_ini: int, n_nodes_fin: int, step: int)-> List:\n",
    "    times = []\n",
    "\n",
    "    for n in range(n_nodes_ini, n_nodes_fin+1, step):\n",
    "        l_graphs = []\n",
    "        l_graphs = [complete_graph(n, 50) for i in range(0,n_graphs)]\n",
    "        media = 0\n",
    "        for graph in l_graphs:\n",
    "            _, _, k_time = kruskal_2(graph[0], graph[1])\n",
    "            media = media + k_time\n",
    "        media = media / n_graphs\n",
    "        times.append((n, media))\n",
    "    \n",
    "    return times\n",
    "\n",
    "time_kruskal_2(100, 50, 100, 10)\n"
   ]
  },
  {
   "cell_type": "markdown",
   "metadata": {},
   "source": []
  },
  {
   "cell_type": "code",
   "execution_count": 66,
   "metadata": {},
   "outputs": [
    {
     "name": "stdout",
     "output_type": "stream",
     "text": [
      "[[  0 289 158 209 319 260 286 179 476 323]\n",
      " [289   0 240 369 218 289  36 258 336 365]\n",
      " [158 240   0 322 145 124 215 321 324 120]\n",
      " [209 369 322   0 144  50 342 396 230 283]\n",
      " [319 218 145 144   0 329 249 156 379 370]\n",
      " [260 289 124  50 329   0 292 260 382 351]\n",
      " [286  36 215 342 249 292   0 403 317 109]\n",
      " [179 258 321 396 156 260 403   0 312 271]\n",
      " [476 336 324 230 379 382 317 312   0 261]\n",
      " [323 365 120 283 370 351 109 271 261   0]]\n",
      "[0 4 1 2 3]\n",
      "[8 3 5 2 9 6 1 4 7 0] 1222\n"
     ]
    },
    {
     "ename": "KeyboardInterrupt",
     "evalue": "",
     "output_type": "error",
     "traceback": [
      "\u001b[1;31m---------------------------------------------------------------------------\u001b[0m",
      "\u001b[1;31mKeyboardInterrupt\u001b[0m                         Traceback (most recent call last)",
      "\u001b[1;32mc:\\Users\\dhuff\\Documents\\uni\\algoritmia\\Algoritmia_estructuras_avanzadas\\p203_d.ipynb Cell 8\u001b[0m line \u001b[0;36m5\n\u001b[0;32m     <a href='vscode-notebook-cell:/c%3A/Users/dhuff/Documents/uni/algoritmia/Algoritmia_estructuras_avanzadas/p203_d.ipynb#X10sZmlsZQ%3D%3D?line=51'>52</a>\u001b[0m     \u001b[39mreturn\u001b[39;00m best_circuit\n\u001b[0;32m     <a href='vscode-notebook-cell:/c%3A/Users/dhuff/Documents/uni/algoritmia/Algoritmia_estructuras_avanzadas/p203_d.ipynb#X10sZmlsZQ%3D%3D?line=53'>54</a>\u001b[0m \u001b[39mprint\u001b[39m(repeated_greedy_tsp(a), len_circuit(repeated_greedy_tsp(a), a))\n\u001b[1;32m---> <a href='vscode-notebook-cell:/c%3A/Users/dhuff/Documents/uni/algoritmia/Algoritmia_estructuras_avanzadas/p203_d.ipynb#X10sZmlsZQ%3D%3D?line=54'>55</a>\u001b[0m \u001b[39mprint\u001b[39m(exhaustive_tsp(a), len_circuit(exhaustive_tsp(a), a))\n",
      "\u001b[1;32mc:\\Users\\dhuff\\Documents\\uni\\algoritmia\\Algoritmia_estructuras_avanzadas\\p203_d.ipynb Cell 8\u001b[0m line \u001b[0;36m5\n\u001b[0;32m     <a href='vscode-notebook-cell:/c%3A/Users/dhuff/Documents/uni/algoritmia/Algoritmia_estructuras_avanzadas/p203_d.ipynb#X10sZmlsZQ%3D%3D?line=47'>48</a>\u001b[0m best_circuit \u001b[39m=\u001b[39m [item \u001b[39mfor\u001b[39;00m item \u001b[39min\u001b[39;00m \u001b[39mrange\u001b[39m(\u001b[39m0\u001b[39m, dist_m\u001b[39m.\u001b[39mshape[\u001b[39m0\u001b[39m])]\n\u001b[0;32m     <a href='vscode-notebook-cell:/c%3A/Users/dhuff/Documents/uni/algoritmia/Algoritmia_estructuras_avanzadas/p203_d.ipynb#X10sZmlsZQ%3D%3D?line=48'>49</a>\u001b[0m \u001b[39mfor\u001b[39;00m circuit \u001b[39min\u001b[39;00m permutations(\u001b[39mrange\u001b[39m(\u001b[39m0\u001b[39m, dist_m\u001b[39m.\u001b[39mshape[\u001b[39m0\u001b[39m])):\n\u001b[1;32m---> <a href='vscode-notebook-cell:/c%3A/Users/dhuff/Documents/uni/algoritmia/Algoritmia_estructuras_avanzadas/p203_d.ipynb#X10sZmlsZQ%3D%3D?line=49'>50</a>\u001b[0m     \u001b[39mif\u001b[39;00m \u001b[39mmin\u001b[39m(len_circuit(circuit, dist_m),len_circuit(best_circuit, dist_m)) \u001b[39m==\u001b[39m len_circuit(circuit, dist_m):\n\u001b[0;32m     <a href='vscode-notebook-cell:/c%3A/Users/dhuff/Documents/uni/algoritmia/Algoritmia_estructuras_avanzadas/p203_d.ipynb#X10sZmlsZQ%3D%3D?line=50'>51</a>\u001b[0m         best_circuit \u001b[39m=\u001b[39m circuit\n\u001b[0;32m     <a href='vscode-notebook-cell:/c%3A/Users/dhuff/Documents/uni/algoritmia/Algoritmia_estructuras_avanzadas/p203_d.ipynb#X10sZmlsZQ%3D%3D?line=51'>52</a>\u001b[0m \u001b[39mreturn\u001b[39;00m best_circuit\n",
      "\u001b[1;32mc:\\Users\\dhuff\\Documents\\uni\\algoritmia\\Algoritmia_estructuras_avanzadas\\p203_d.ipynb Cell 8\u001b[0m line \u001b[0;36m3\n\u001b[0;32m     <a href='vscode-notebook-cell:/c%3A/Users/dhuff/Documents/uni/algoritmia/Algoritmia_estructuras_avanzadas/p203_d.ipynb#X10sZmlsZQ%3D%3D?line=29'>30</a>\u001b[0m \u001b[39mfor\u001b[39;00m city \u001b[39min\u001b[39;00m circuit:\n\u001b[0;32m     <a href='vscode-notebook-cell:/c%3A/Users/dhuff/Documents/uni/algoritmia/Algoritmia_estructuras_avanzadas/p203_d.ipynb#X10sZmlsZQ%3D%3D?line=30'>31</a>\u001b[0m     dist \u001b[39m+\u001b[39m\u001b[39m=\u001b[39m dist_m[city][city_before]\n\u001b[1;32m---> <a href='vscode-notebook-cell:/c%3A/Users/dhuff/Documents/uni/algoritmia/Algoritmia_estructuras_avanzadas/p203_d.ipynb#X10sZmlsZQ%3D%3D?line=31'>32</a>\u001b[0m     city_before \u001b[39m=\u001b[39m city\n\u001b[0;32m     <a href='vscode-notebook-cell:/c%3A/Users/dhuff/Documents/uni/algoritmia/Algoritmia_estructuras_avanzadas/p203_d.ipynb#X10sZmlsZQ%3D%3D?line=32'>33</a>\u001b[0m \u001b[39mreturn\u001b[39;00m dist\n",
      "\u001b[1;31mKeyboardInterrupt\u001b[0m: "
     ]
    }
   ],
   "source": [
    "def dist_matrix(n_nodes: int, w_max=10) -> np.ndarray:\n",
    "    \"\"\"\n",
    "    \"\"\"\n",
    "    m = np.random.randint(1, w_max+1, (n_nodes, n_nodes))\n",
    "    m = (m + m.T) // 2\n",
    "    np.fill_diagonal(m, 0)\n",
    "    return m\n",
    "\n",
    "def greedy_tsp(dist_m: np.ndarray, node_ini=0)-> List:\n",
    "    num_cities = dist_m.shape[0]\n",
    "    circuit = [node_ini]\n",
    "    while len(circuit) < num_cities:\n",
    "        current_city = circuit[-1]\n",
    "        # sort cities in ascending distance from current\n",
    "        options = np.argsort(dist_m[ current_city ])\n",
    "        # add first city in sorted list not visited yet\n",
    "        for city in options:\n",
    "            if city not in circuit:\n",
    "                circuit.append(city)\n",
    "                break\n",
    "    return np.array(circuit)\n",
    "\n",
    "a = dist_matrix(10, 500)\n",
    "print(a)\n",
    "print(greedy_tsp(dist_matrix(5, 10), 0))\n",
    "\n",
    "def len_circuit(circuit: List, dist_m: np.ndarray)-> int:  \n",
    "    dist = 0\n",
    "    city_before = circuit[0]\n",
    "    for city in circuit:\n",
    "        dist += dist_m[city][city_before]\n",
    "        city_before = city\n",
    "    return dist\n",
    "\n",
    "def repeated_greedy_tsp(dist_m: np.ndarray)-> List:\n",
    "    best_circuit = greedy_tsp(dist_m, 0)\n",
    "\n",
    "    for city in range(1, dist_m.shape[0]-1):\n",
    "        circuit = greedy_tsp(dist_m, city)\n",
    "        if min(len_circuit(circuit, dist_m), len_circuit(best_circuit, dist_m)) == len_circuit(circuit, dist_m):\n",
    "            best_circuit = circuit\n",
    "    return best_circuit\n",
    "\n",
    "from itertools import permutations\n",
    "\n",
    "def exhaustive_tsp(dist_m: np.ndarray)-> List:\n",
    "\n",
    "    best_circuit = [item for item in range(0, dist_m.shape[0])]\n",
    "    for circuit in permutations(range(0, dist_m.shape[0])):\n",
    "        if min(len_circuit(circuit, dist_m),len_circuit(best_circuit, dist_m)) == len_circuit(circuit, dist_m):\n",
    "            best_circuit = circuit\n",
    "    return best_circuit\n",
    "\n",
    "print(repeated_greedy_tsp(a), len_circuit(repeated_greedy_tsp(a), a))\n",
    "print(exhaustive_tsp(a), len_circuit(exhaustive_tsp(a), a))\n"
   ]
  }
 ],
 "metadata": {
  "kernelspec": {
   "display_name": "Python 3",
   "language": "python",
   "name": "python3"
  },
  "language_info": {
   "codemirror_mode": {
    "name": "ipython",
    "version": 3
   },
   "file_extension": ".py",
   "mimetype": "text/x-python",
   "name": "python",
   "nbconvert_exporter": "python",
   "pygments_lexer": "ipython3",
   "version": "3.11.6"
  }
 },
 "nbformat": 4,
 "nbformat_minor": 2
}
