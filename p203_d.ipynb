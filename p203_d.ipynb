{
 "cells": [
  {
   "cell_type": "markdown",
   "metadata": {},
   "source": [
    "I-A TAD Conjunto Disjunto"
   ]
  },
  {
   "cell_type": "code",
   "execution_count": 15,
   "metadata": {},
   "outputs": [
    {
     "name": "stdout",
     "output_type": "stream",
     "text": [
      "[[-1 -1 -1 -1 -1]]\n",
      "[-4, 0, 5, 1, 0, 4, -3, 6, 7]\n",
      "[-4, 0, 0, 1, 0, 0, -3, 6, 7]\n",
      "0\n"
     ]
    }
   ],
   "source": [
    "import numpy as np\n",
    "\n",
    "def init_cd(n: int):\n",
    "    return np.full((1,n), -1, dtype=int)\n",
    "\n",
    "print(init_cd(5))\n",
    "\n",
    "\n",
    "def union(rep_1: int, rep_2: int, p_cd: np.ndarray):\n",
    "    if p_cd[rep_1] < p_cd[rep_2]:\n",
    "        p_cd[rep_2] = rep_1\n",
    "        print(p_cd) #tests\n",
    "        return rep_1\n",
    "    elif p_cd[rep_1] > p_cd[rep_2]:\n",
    "        p_cd[rep_1] = rep_2\n",
    "        print(p_cd) # tests\n",
    "        return rep_2\n",
    "    else:\n",
    "        p_cd[rep_1] = rep_2\n",
    "        p_cd[rep_1] -= 1\n",
    "        print(p_cd) #tests\n",
    "        return rep_2\n",
    "\n",
    "test = np.array = [-4, 0, 5, 1, 0, 4, -3, 6, 7]\n",
    "#print(union(0, 6, test))\n",
    "\n",
    "def find(ind: int, p_cd: np.ndarray):\n",
    "    root = ind\n",
    "    while p_cd[root] >= 0:\n",
    "        root  = p_cd[root]\n",
    "\n",
    "    while p_cd[ind] >= 0:\n",
    "        a = p_cd[ind]\n",
    "        p_cd[ind] = root\n",
    "        ind = a\n",
    "    print(p_cd)\n",
    "    return root\n",
    "    \n",
    "\n",
    "\t\n",
    "print(test)\n",
    "print(find(2, test))\n",
    "\n"
   ]
  },
  {
   "cell_type": "markdown",
   "metadata": {},
   "source": [
    "II-A Algoritmo de Kruskall"
   ]
  },
  {
   "cell_type": "code",
   "execution_count": null,
   "metadata": {},
   "outputs": [],
   "source": [
    "from queue import PriorityQueue\n",
    "\n",
    "def create_pq(n: int, l_g: list):\n",
    "    pq = PriorityQueue()\n",
    "\n",
    "    for u, v, w in l_g:\n",
    "        pq.put((w, (u,v)))\n",
    "    \n",
    "\n",
    "def kruskal(n: int, l_g: list):\n",
    "    pq = create_pq(n, l_g)\n",
    "    ds = init_cd(n)\n",
    "    l_t = list\n",
    "\n",
    "    while not pq.empty:\n",
    "        _, (u, v) = pq.get()\n",
    "\n",
    "        x = find(u, ds)\n",
    "        y = find(v, ds)\n",
    "\n",
    "        if x != y:\n",
    "            l_t.append((u,v))\n",
    "            union(u, v, ds)\n",
    "    \n",
    "    for i in range(0, len(ds)-1):\n",
    "        \n",
    "\n",
    "    return tuple[n, l_t]\n"
   ]
  }
 ],
 "metadata": {
  "kernelspec": {
   "display_name": "Python 3",
   "language": "python",
   "name": "python3"
  },
  "language_info": {
   "codemirror_mode": {
    "name": "ipython",
    "version": 3
   },
   "file_extension": ".py",
   "mimetype": "text/x-python",
   "name": "python",
   "nbconvert_exporter": "python",
   "pygments_lexer": "ipython3",
   "version": "3.11.6"
  }
 },
 "nbformat": 4,
 "nbformat_minor": 2
}
