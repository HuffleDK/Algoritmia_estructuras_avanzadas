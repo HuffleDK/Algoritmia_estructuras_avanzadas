{
 "cells": [
  {
   "cell_type": "markdown",
   "metadata": {},
   "source": [
    "1-B"
   ]
  },
  {
   "cell_type": "code",
   "execution_count": 1,
   "metadata": {},
   "outputs": [
    {
     "data": {
      "text/plain": [
       "array([[5.00000000e+00, 4.57610004e-07],\n",
       "       [1.20000000e+01, 5.70680004e-07],\n",
       "       [2.80000000e+01, 6.75480005e-07],\n",
       "       [6.40000000e+01, 9.14480006e-07],\n",
       "       [1.44000000e+02, 9.64640003e-07],\n",
       "       [3.20000000e+02, 1.11842000e-06],\n",
       "       [7.04000000e+02, 1.26969000e-06],\n",
       "       [1.53600000e+03, 1.40360000e-06],\n",
       "       [3.32800000e+03, 1.57128999e-06],\n",
       "       [7.16800000e+03, 1.70924000e-06]])"
      ]
     },
     "execution_count": 1,
     "metadata": {},
     "output_type": "execute_result"
    }
   ],
   "source": [
    "import numpy as np\n",
    "\n",
    "\n",
    "def rec_bb(t: list, f: int, l: int, key: int):\n",
    "    if l < f:\n",
    "        return None\n",
    "    root = (f+l)//2 # este es sería el root para mejor tiempo\n",
    "    #root = l\n",
    "    if key < t[root]:\n",
    "        return rec_bb(t, f, root, key)\n",
    "    elif key > t[root]:\n",
    "        return rec_bb(t, root, l, key)\n",
    "    \n",
    "    return root\n",
    "\n",
    "\n",
    "\n",
    "def bb(t: list, f: int, l: int, key: int):\n",
    "    \n",
    "    while f <= l:\n",
    "        root = (f+l)//2 # este es sería el root para mejor tiempo\n",
    "        #root = l\n",
    "        if t[root] > key: #\n",
    "            l = root-1\n",
    "        elif t[root] < key:\n",
    "            f = root+1\n",
    "        elif t[root] == key:\n",
    "            return root\n",
    "    \n",
    "    return None\n",
    "\n",
    "\n",
    "# timings para bb recursiva \n",
    "l_timings_rec = [] \n",
    "l_timings_ite = []\n",
    "for i, size in enumerate(range(5, 15)):\n",
    "    t = list(range(2**i * size))\n",
    "    key = t[0]\n",
    "    #print(t)\n",
    "    timings_rec = %timeit -n 100 -r 10 -o -q rec_bb(t, 0, len(t) - 1, key)\n",
    "    timings_ite = %timeit -n 100 -r 10 -o -q bb(t, 0, len(t) - 1, key)\n",
    "    l_timings_rec.append([int(len(t)), timings_rec.best])\n",
    "    l_timings_ite.append([int(len(t)), timings_ite.best])\n",
    "\n",
    "a_timings_rec = np.array(l_timings_rec)\n",
    "a_timings_ite = np.array(l_timings_ite)\n",
    "\n",
    "a_timings_rec\n",
    "a_timings_ite\n",
    "\n",
    "\n",
    "\n"
   ]
  },
  {
   "cell_type": "markdown",
   "metadata": {},
   "source": [
    "1-C"
   ]
  },
  {
   "cell_type": "code",
   "execution_count": 3,
   "metadata": {},
   "outputs": [
    {
     "data": {
      "image/png": "[encoded data removed]",
      "text/plain": [
       "<Figure size 640x480 with 1 Axes>"
      ]
     },
     "metadata": {},
     "output_type": "display_data"
    }
   ],
   "source": [
    "from scipy.optimize import curve_fit\n",
    "import math\n",
    "import matplotlib.pyplot as plt\n",
    "\n",
    "def tofit(x, a, b):\n",
    "    return a * np.log(x) + b # f(x) = x**3 for matrix mult\n",
    "\n",
    "x = a_timings_rec[: , 0]\n",
    "y = a_timings_rec[: , 1]\n",
    "y = y / y[0] #normalizar timings\n",
    "pars, _ = curve_fit(tofit, x, y)\n",
    "a, b = pars\n",
    "plt.plot(x, y, 'bo', label='Datos rec')\n",
    "plt.plot(x, tofit(x, a, b), label='Ajuste rec')\n",
    "#plt.legend()\n",
    "#plt.show()\n",
    "\n",
    "x1 = a_timings_ite[: , 0]\n",
    "y1 = a_timings_ite[: , 1]\n",
    "y1 = y1 / y1[0] #normalizar timings\n",
    "pars, _ = curve_fit(tofit, x1, y1)\n",
    "a, b = pars\n",
    "plt.plot(x1, y1, 'ro', label='Datos ite')\n",
    "plt.plot(x1, tofit(x1, a, b), label='Ajuste ite')\n",
    "plt.legend()\n",
    "plt.show()\n",
    "\n",
    "\n",
    "\n"
   ]
  },
  {
   "cell_type": "markdown",
   "metadata": {},
   "source": []
  },
  {
   "cell_type": "markdown",
   "metadata": {},
   "source": [
    "A2"
   ]
  },
  {
   "cell_type": "code",
   "execution_count": 30,
   "metadata": {},
   "outputs": [
    {
     "name": "stdout",
     "output_type": "stream",
     "text": [
      "[1, 2, 4, 20, 10, 12, 15, 90, 22]\n"
     ]
    }
   ],
   "source": [
    "import numpy as np\n",
    "\n",
    "tes = np.array([1, 2, 4, 90, 10, 12, 15, 20, 22])\n",
    "\n",
    "def min_heapify(h: np.ndarray, i: int):\n",
    "    while 2*i+1 < h.shape[0]:\n",
    "        next_i = i\n",
    "        if h[next_i] > h[2*i+1]:\n",
    "            next_i = 2*i+1\n",
    "        if 2*i+2 < h.shape[0] and h[next_i] > h[2*i+2]:\n",
    "            next_i = 2*i+2\n",
    "        if next_i > i:\n",
    "            h[i], h[next_i] = h[next_i], h[i]\n",
    "            i = next_i\n",
    "        else:\n",
    "            return\n",
    "\n",
    "\n",
    "\n",
    "min_heapify(tes, 3)\n",
    "print(tes.tolist())\n",
    "\n",
    "\n",
    "def insert_min_heap(h: np.ndarray, k: int):\n",
    "    h += [k]\n",
    "    j = h.shape[0] - 1\n",
    "    while j >= 1 and h[(j-1) // 2] > h[j]:\n",
    "        h[(j-1) // 2], h[j] = h[j], h[(j-1) // 2]\n",
    "        j = (j-1) // 2\n",
    "\n",
    "\n",
    "    return h"
   ]
  },
  {
   "cell_type": "code",
   "execution_count": 33,
   "metadata": {},
   "outputs": [
    {
     "name": "stdout",
     "output_type": "stream",
     "text": [
      "[7 1 3 4 2 6]\n"
     ]
    }
   ],
   "source": [
    "# II-A 3.\n",
    "\n",
    "def create_min_heap(h:np.ndarray):\n",
    "    j = (len(h)-1) // 2\n",
    "    while j > -1:\n",
    "        min_heapify(h, j)\n",
    "        j -= 1\n",
    "#################################################\n",
    "    i = 0\n",
    "    while 2*i+1 < len(h):\n",
    "        if h[i] > h[2*i+1]:\n",
    "            min_heapify(h, 2*i+1)\n",
    "        if 2*i+2 < len(h) and h[i] > h[2*i+2]:\n",
    "            min_heapify(h, 2*i+2)\n",
    "        i += 1\n",
    "\n",
    "a = np.array([7, 4, 3, 1, 2, 6])\n",
    "create_min_heap(a)\n",
    "print(a)"
   ]
  },
  {
   "cell_type": "code",
   "execution_count": null,
   "metadata": {},
   "outputs": [],
   "source": []
  }
 ],
 "metadata": {
  "kernelspec": {
   "display_name": "Python 3",
   "language": "python",
   "name": "python3"
  },
  "language_info": {
   "codemirror_mode": {
    "name": "ipython",
    "version": 3
   },
   "file_extension": ".py",
   "mimetype": "text/x-python",
   "name": "python",
   "nbconvert_exporter": "python",
   "pygments_lexer": "ipython3",
   "version": "3.10.12"
  },
  "orig_nbformat": 4
 },
 "nbformat": 4,
 "nbformat_minor": 2
}
